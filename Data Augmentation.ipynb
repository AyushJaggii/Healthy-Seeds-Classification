{
 "cells": [
  {
   "cell_type": "markdown",
   "id": "5fd38177",
   "metadata": {},
   "source": [
    "# Data Augementation"
   ]
  },
  {
   "cell_type": "markdown",
   "id": "b0ff984c",
   "metadata": {},
   "source": [
    "## Augmentation of Single Image"
   ]
  },
  {
   "cell_type": "code",
   "execution_count": 5,
   "id": "09955f13",
   "metadata": {},
   "outputs": [],
   "source": [
    "from keras.preprocessing.image import ImageDataGenerator\n",
    "from keras.utils import array_to_img, img_to_array,  load_img\n",
    "datagen = ImageDataGenerator(\n",
    "                rotation_range=90,\n",
    "                width_shift_range=0.10,\n",
    "                height_shift_range=0.10,\n",
    "                shear_range= 0.10,\n",
    "                zoom_range=0.10,\n",
    "                horizontal_flip=True,\n",
    "                vertical_flip = True,\n",
    "                fill_mode = 'nearest'\n",
    "                    )\n",
    "\n",
    "img = load_img(r'E:\\1. Tech\\Healthy Seed Classification Research\\Seeds pictures\\Cropped seeds\\PP cropped\\Pp_duo3.jpg')\n",
    "x = img_to_array(img)\n",
    "x = x.reshape((1,) + x.shape)\n",
    "\n",
    "\n",
    "i = 0\n",
    "for batch in datagen.flow(x,batch_size = 1,save_to_dir = r'E:\\1. Tech\\Healthy Seed Classification Research\\Sample Augumented seeds', save_prefix = 'pumpkin', save_format='jpeg'):\n",
    "    i += 1\n",
    "    if i > 15:\n",
    "        break"
   ]
  },
  {
   "cell_type": "code",
   "execution_count": null,
   "id": "98c2e992",
   "metadata": {},
   "outputs": [],
   "source": []
  },
  {
   "cell_type": "markdown",
   "id": "1402bf1f",
   "metadata": {},
   "source": [
    "## Augumentation of multiple images at once"
   ]
  },
  {
   "cell_type": "code",
   "execution_count": 30,
   "id": "999c19fb",
   "metadata": {},
   "outputs": [],
   "source": [
    "from keras.preprocessing.image import ImageDataGenerator\n",
    "from keras.utils import array_to_img, img_to_array, load_img\n",
    "import os\n",
    "\n",
    "datagen = ImageDataGenerator(\n",
    "    rotation_range=90,\n",
    "    width_shift_range=0.10,\n",
    "    height_shift_range=0.10,\n",
    "    shear_range=0.10,\n",
    "    zoom_range=0.10,\n",
    "    horizontal_flip=True,\n",
    "    vertical_flip=True,\n",
    "    fill_mode='nearest'\n",
    ")\n",
    "\n",
    "# Specify the directory containing the group of photos\n",
    "photo_dir = r'E:\\1. Tech\\Healthy Seed Classification Research\\Seeds pictures\\Cropped seeds\\PP cropped'\n",
    "\n",
    "# Specify the directory to save augmented photos\n",
    "save_dir = r'E:\\1. Tech\\Healthy Seed Classification Research\\Sample Augumented seeds\\WM'\n",
    "\n",
    "os.makedirs(save_dir, exist_ok=True)\n",
    "\n",
    "# Loop through each photo in the directory\n",
    "for photo_file in os.listdir(photo_dir):\n",
    "    # Load the photo\n",
    "    photo_path = os.path.join(photo_dir, photo_file)\n",
    "    img = load_img(photo_path)\n",
    "    x = img_to_array(img)\n",
    "    x = x.reshape((1,) + x.shape)\n",
    "\n",
    "    # Apply data augmentation and save augmented photos\n",
    "    i = 0\n",
    "    for batch in datagen.flow(x, batch_size=1, save_to_dir=save_dir, save_prefix='pumpkin', save_format='jpeg'):\n",
    "        i += 1\n",
    "        if i > 35:\n",
    "            break\n"
   ]
  },
  {
   "cell_type": "code",
   "execution_count": null,
   "id": "24222447",
   "metadata": {},
   "outputs": [],
   "source": []
  },
  {
   "cell_type": "code",
   "execution_count": null,
   "id": "3ed18b06",
   "metadata": {},
   "outputs": [],
   "source": []
  },
  {
   "cell_type": "code",
   "execution_count": null,
   "id": "0e33dc55",
   "metadata": {},
   "outputs": [],
   "source": []
  }
 ],
 "metadata": {
  "kernelspec": {
   "display_name": "Python 3 (ipykernel)",
   "language": "python",
   "name": "python3"
  },
  "language_info": {
   "codemirror_mode": {
    "name": "ipython",
    "version": 3
   },
   "file_extension": ".py",
   "mimetype": "text/x-python",
   "name": "python",
   "nbconvert_exporter": "python",
   "pygments_lexer": "ipython3",
   "version": "3.9.16"
  }
 },
 "nbformat": 4,
 "nbformat_minor": 5
}
